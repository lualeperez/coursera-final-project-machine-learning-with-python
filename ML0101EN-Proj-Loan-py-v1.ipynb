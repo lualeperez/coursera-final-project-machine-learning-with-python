{
 "cells": [
  {
   "cell_type": "markdown",
   "metadata": {
    "button": false,
    "new_sheet": false,
    "run_control": {
     "read_only": false
    }
   },
   "source": [
    "<a href=\"https://www.bigdatauniversity.com\"><img src=\"https://ibm.box.com/shared/static/cw2c7r3o20w9zn8gkecaeyjhgw3xdgbj.png\" width=\"400\" align=\"center\"></a>\n",
    "\n",
    "<h1 align=\"center\"><font size=\"5\">Classification with Python</font></h1>"
   ]
  },
  {
   "cell_type": "markdown",
   "metadata": {
    "button": false,
    "new_sheet": false,
    "run_control": {
     "read_only": false
    }
   },
   "source": [
    "In this notebook we try to practice all the classification algorithms that we learned in this course.\n",
    "\n",
    "We load a dataset using Pandas library, and apply the following algorithms, and find the best one for this specific dataset by accuracy evaluation methods.\n",
    "\n",
    "Lets first load required libraries:"
   ]
  },
  {
   "cell_type": "code",
   "execution_count": 1,
   "metadata": {
    "ExecuteTime": {
     "end_time": "2020-04-14T08:40:10.127734Z",
     "start_time": "2020-04-14T08:40:09.509273Z"
    },
    "button": false,
    "new_sheet": false,
    "run_control": {
     "read_only": false
    }
   },
   "outputs": [],
   "source": [
    "import itertools\n",
    "\n",
    "import numpy  as np\n",
    "import pandas as pd\n",
    "\n",
    "import matplotlib.pyplot as plt\n",
    "from   matplotlib.ticker import NullFormatter\n",
    "import matplotlib.ticker as ticker\n",
    "import seaborn as sns\n",
    "\n",
    "from   sklearn import preprocessing\n",
    "%matplotlib inline"
   ]
  },
  {
   "cell_type": "markdown",
   "metadata": {
    "button": false,
    "new_sheet": false,
    "run_control": {
     "read_only": false
    }
   },
   "source": [
    "### About dataset"
   ]
  },
  {
   "cell_type": "markdown",
   "metadata": {
    "button": false,
    "new_sheet": false,
    "run_control": {
     "read_only": false
    }
   },
   "source": [
    "This dataset is about past loans. The __Loan_train.csv__ data set includes details of 346 customers whose loan are already paid off or defaulted. It includes following fields:\n",
    "\n",
    "| Field          | Description                                                                           |\n",
    "|----------------|---------------------------------------------------------------------------------------|\n",
    "| Loan_status    | Whether a loan is paid off on in collection                                           |\n",
    "| Principal      | Basic principal loan amount at the                                                    |\n",
    "| Terms          | Origination terms which can be weekly (7 days), biweekly, and monthly payoff schedule |\n",
    "| Effective_date | When the loan got originated and took effects                                         |\n",
    "| Due_date       | Since it’s one-time payoff schedule, each loan has one single due date                |\n",
    "| Age            | Age of applicant                                                                      |\n",
    "| Education      | Education of applicant                                                                |\n",
    "| Gender         | The gender of applicant                                                               |"
   ]
  },
  {
   "cell_type": "markdown",
   "metadata": {
    "button": false,
    "new_sheet": false,
    "run_control": {
     "read_only": false
    }
   },
   "source": [
    "Lets download the dataset"
   ]
  },
  {
   "cell_type": "code",
   "execution_count": 2,
   "metadata": {
    "ExecuteTime": {
     "end_time": "2020-04-14T08:40:25.484398Z",
     "start_time": "2020-04-14T08:40:18.558066Z"
    },
    "button": false,
    "new_sheet": false,
    "run_control": {
     "read_only": false
    }
   },
   "outputs": [
    {
     "name": "stdout",
     "output_type": "stream",
     "text": [
      "--2020-04-14 10:40:18--  https://s3-api.us-geo.objectstorage.softlayer.net/cf-courses-data/CognitiveClass/ML0101ENv3/labs/loan_train.csv\n",
      "Resolving s3-api.us-geo.objectstorage.softlayer.net (s3-api.us-geo.objectstorage.softlayer.net)... 67.228.254.196\n",
      "Connecting to s3-api.us-geo.objectstorage.softlayer.net (s3-api.us-geo.objectstorage.softlayer.net)|67.228.254.196|:443... connected.\n",
      "HTTP request sent, awaiting response... 200 OK\n",
      "Length: 23101 (23K) [text/csv]\n",
      "Saving to: ‘loan_train.csv’\n",
      "\n",
      "loan_train.csv      100%[===================>]  22.56K  19.4KB/s    in 1.2s    \n",
      "\n",
      "2020-04-14 10:40:25 (19.4 KB/s) - ‘loan_train.csv’ saved [23101/23101]\n",
      "\n"
     ]
    }
   ],
   "source": [
    "!wget -O loan_train.csv https://s3-api.us-geo.objectstorage.softlayer.net/cf-courses-data/CognitiveClass/ML0101ENv3/labs/loan_train.csv"
   ]
  },
  {
   "cell_type": "markdown",
   "metadata": {
    "button": false,
    "new_sheet": false,
    "run_control": {
     "read_only": false
    }
   },
   "source": [
    "### Load Data From CSV File  "
   ]
  },
  {
   "cell_type": "markdown",
   "metadata": {},
   "source": [
    "Define a function to get the data from a csv file, and to remove dummy columns (with name Unnamed)"
   ]
  },
  {
   "cell_type": "code",
   "execution_count": 3,
   "metadata": {
    "ExecuteTime": {
     "end_time": "2020-04-14T08:40:33.995790Z",
     "start_time": "2020-04-14T08:40:33.992021Z"
    }
   },
   "outputs": [],
   "source": [
    "def get_data(file):\n",
    "    \"\"\"\n",
    "    Get the data from a data file in csv format\n",
    "    \"\"\"\n",
    "    \n",
    "    df = pd.read_csv(file)\n",
    "    cols_to_drop = [] # list with column names to remove\n",
    "    # 1st check that the columns names are in the data\n",
    "    cols_to_test = ['Unnamed: 0','Unnamed: 0.1']\n",
    "    for col in cols_to_test:\n",
    "        if col in df.columns:\n",
    "            cols_to_drop.append(col)\n",
    "            \n",
    "    if cols_to_drop:\n",
    "        df.drop(columns=cols_to_drop,axis=1,inplace=True)\n",
    "    \n",
    "    return df\n"
   ]
  },
  {
   "cell_type": "code",
   "execution_count": 4,
   "metadata": {
    "ExecuteTime": {
     "end_time": "2020-04-14T08:40:36.844879Z",
     "start_time": "2020-04-14T08:40:36.820084Z"
    },
    "button": false,
    "new_sheet": false,
    "run_control": {
     "read_only": false
    }
   },
   "outputs": [
    {
     "data": {
      "text/html": [
       "<div>\n",
       "<style scoped>\n",
       "    .dataframe tbody tr th:only-of-type {\n",
       "        vertical-align: middle;\n",
       "    }\n",
       "\n",
       "    .dataframe tbody tr th {\n",
       "        vertical-align: top;\n",
       "    }\n",
       "\n",
       "    .dataframe thead th {\n",
       "        text-align: right;\n",
       "    }\n",
       "</style>\n",
       "<table border=\"1\" class=\"dataframe\">\n",
       "  <thead>\n",
       "    <tr style=\"text-align: right;\">\n",
       "      <th></th>\n",
       "      <th>loan_status</th>\n",
       "      <th>Principal</th>\n",
       "      <th>terms</th>\n",
       "      <th>effective_date</th>\n",
       "      <th>due_date</th>\n",
       "      <th>age</th>\n",
       "      <th>education</th>\n",
       "      <th>Gender</th>\n",
       "    </tr>\n",
       "  </thead>\n",
       "  <tbody>\n",
       "    <tr>\n",
       "      <th>0</th>\n",
       "      <td>PAIDOFF</td>\n",
       "      <td>1000</td>\n",
       "      <td>30</td>\n",
       "      <td>9/8/2016</td>\n",
       "      <td>10/7/2016</td>\n",
       "      <td>45</td>\n",
       "      <td>High School or Below</td>\n",
       "      <td>male</td>\n",
       "    </tr>\n",
       "    <tr>\n",
       "      <th>1</th>\n",
       "      <td>PAIDOFF</td>\n",
       "      <td>1000</td>\n",
       "      <td>30</td>\n",
       "      <td>9/8/2016</td>\n",
       "      <td>10/7/2016</td>\n",
       "      <td>33</td>\n",
       "      <td>Bechalor</td>\n",
       "      <td>female</td>\n",
       "    </tr>\n",
       "    <tr>\n",
       "      <th>2</th>\n",
       "      <td>PAIDOFF</td>\n",
       "      <td>1000</td>\n",
       "      <td>15</td>\n",
       "      <td>9/8/2016</td>\n",
       "      <td>9/22/2016</td>\n",
       "      <td>27</td>\n",
       "      <td>college</td>\n",
       "      <td>male</td>\n",
       "    </tr>\n",
       "    <tr>\n",
       "      <th>3</th>\n",
       "      <td>PAIDOFF</td>\n",
       "      <td>1000</td>\n",
       "      <td>30</td>\n",
       "      <td>9/9/2016</td>\n",
       "      <td>10/8/2016</td>\n",
       "      <td>28</td>\n",
       "      <td>college</td>\n",
       "      <td>female</td>\n",
       "    </tr>\n",
       "    <tr>\n",
       "      <th>4</th>\n",
       "      <td>PAIDOFF</td>\n",
       "      <td>1000</td>\n",
       "      <td>30</td>\n",
       "      <td>9/9/2016</td>\n",
       "      <td>10/8/2016</td>\n",
       "      <td>29</td>\n",
       "      <td>college</td>\n",
       "      <td>male</td>\n",
       "    </tr>\n",
       "  </tbody>\n",
       "</table>\n",
       "</div>"
      ],
      "text/plain": [
       "  loan_status  Principal  terms effective_date   due_date  age  \\\n",
       "0     PAIDOFF       1000     30       9/8/2016  10/7/2016   45   \n",
       "1     PAIDOFF       1000     30       9/8/2016  10/7/2016   33   \n",
       "2     PAIDOFF       1000     15       9/8/2016  9/22/2016   27   \n",
       "3     PAIDOFF       1000     30       9/9/2016  10/8/2016   28   \n",
       "4     PAIDOFF       1000     30       9/9/2016  10/8/2016   29   \n",
       "\n",
       "              education  Gender  \n",
       "0  High School or Below    male  \n",
       "1              Bechalor  female  \n",
       "2               college    male  \n",
       "3               college  female  \n",
       "4               college    male  "
      ]
     },
     "execution_count": 4,
     "metadata": {},
     "output_type": "execute_result"
    }
   ],
   "source": [
    "df = get_data('loan_train.csv')\n",
    "df.head()"
   ]
  },
  {
   "cell_type": "code",
   "execution_count": 5,
   "metadata": {
    "ExecuteTime": {
     "end_time": "2020-04-14T08:40:39.412446Z",
     "start_time": "2020-04-14T08:40:39.409771Z"
    }
   },
   "outputs": [
    {
     "data": {
      "text/plain": [
       "(346, 8)"
      ]
     },
     "execution_count": 5,
     "metadata": {},
     "output_type": "execute_result"
    }
   ],
   "source": [
    "df.shape"
   ]
  },
  {
   "cell_type": "code",
   "execution_count": 6,
   "metadata": {
    "ExecuteTime": {
     "end_time": "2020-04-14T08:40:40.830477Z",
     "start_time": "2020-04-14T08:40:40.827455Z"
    }
   },
   "outputs": [
    {
     "data": {
      "text/plain": [
       "(346, 8)"
      ]
     },
     "execution_count": 6,
     "metadata": {},
     "output_type": "execute_result"
    }
   ],
   "source": [
    "# Will use the copy (df_for_fit) for later when training the data\n",
    "# Will use df to explore the data\n",
    "df_for_fit = df.copy()\n",
    "df_for_fit.shape"
   ]
  },
  {
   "cell_type": "markdown",
   "metadata": {
    "button": false,
    "new_sheet": false,
    "run_control": {
     "read_only": false
    }
   },
   "source": [
    "### Convert to date time object "
   ]
  },
  {
   "cell_type": "code",
   "execution_count": 7,
   "metadata": {
    "ExecuteTime": {
     "end_time": "2020-04-14T08:40:46.668317Z",
     "start_time": "2020-04-14T08:40:46.604553Z"
    },
    "button": false,
    "new_sheet": false,
    "run_control": {
     "read_only": false
    }
   },
   "outputs": [
    {
     "data": {
      "text/html": [
       "<div>\n",
       "<style scoped>\n",
       "    .dataframe tbody tr th:only-of-type {\n",
       "        vertical-align: middle;\n",
       "    }\n",
       "\n",
       "    .dataframe tbody tr th {\n",
       "        vertical-align: top;\n",
       "    }\n",
       "\n",
       "    .dataframe thead th {\n",
       "        text-align: right;\n",
       "    }\n",
       "</style>\n",
       "<table border=\"1\" class=\"dataframe\">\n",
       "  <thead>\n",
       "    <tr style=\"text-align: right;\">\n",
       "      <th></th>\n",
       "      <th>loan_status</th>\n",
       "      <th>Principal</th>\n",
       "      <th>terms</th>\n",
       "      <th>effective_date</th>\n",
       "      <th>due_date</th>\n",
       "      <th>age</th>\n",
       "      <th>education</th>\n",
       "      <th>Gender</th>\n",
       "    </tr>\n",
       "  </thead>\n",
       "  <tbody>\n",
       "    <tr>\n",
       "      <th>0</th>\n",
       "      <td>PAIDOFF</td>\n",
       "      <td>1000</td>\n",
       "      <td>30</td>\n",
       "      <td>2016-09-08</td>\n",
       "      <td>2016-10-07</td>\n",
       "      <td>45</td>\n",
       "      <td>High School or Below</td>\n",
       "      <td>male</td>\n",
       "    </tr>\n",
       "    <tr>\n",
       "      <th>1</th>\n",
       "      <td>PAIDOFF</td>\n",
       "      <td>1000</td>\n",
       "      <td>30</td>\n",
       "      <td>2016-09-08</td>\n",
       "      <td>2016-10-07</td>\n",
       "      <td>33</td>\n",
       "      <td>Bechalor</td>\n",
       "      <td>female</td>\n",
       "    </tr>\n",
       "    <tr>\n",
       "      <th>2</th>\n",
       "      <td>PAIDOFF</td>\n",
       "      <td>1000</td>\n",
       "      <td>15</td>\n",
       "      <td>2016-09-08</td>\n",
       "      <td>2016-09-22</td>\n",
       "      <td>27</td>\n",
       "      <td>college</td>\n",
       "      <td>male</td>\n",
       "    </tr>\n",
       "    <tr>\n",
       "      <th>3</th>\n",
       "      <td>PAIDOFF</td>\n",
       "      <td>1000</td>\n",
       "      <td>30</td>\n",
       "      <td>2016-09-09</td>\n",
       "      <td>2016-10-08</td>\n",
       "      <td>28</td>\n",
       "      <td>college</td>\n",
       "      <td>female</td>\n",
       "    </tr>\n",
       "    <tr>\n",
       "      <th>4</th>\n",
       "      <td>PAIDOFF</td>\n",
       "      <td>1000</td>\n",
       "      <td>30</td>\n",
       "      <td>2016-09-09</td>\n",
       "      <td>2016-10-08</td>\n",
       "      <td>29</td>\n",
       "      <td>college</td>\n",
       "      <td>male</td>\n",
       "    </tr>\n",
       "  </tbody>\n",
       "</table>\n",
       "</div>"
      ],
      "text/plain": [
       "  loan_status  Principal  terms effective_date   due_date  age  \\\n",
       "0     PAIDOFF       1000     30     2016-09-08 2016-10-07   45   \n",
       "1     PAIDOFF       1000     30     2016-09-08 2016-10-07   33   \n",
       "2     PAIDOFF       1000     15     2016-09-08 2016-09-22   27   \n",
       "3     PAIDOFF       1000     30     2016-09-09 2016-10-08   28   \n",
       "4     PAIDOFF       1000     30     2016-09-09 2016-10-08   29   \n",
       "\n",
       "              education  Gender  \n",
       "0  High School or Below    male  \n",
       "1              Bechalor  female  \n",
       "2               college    male  \n",
       "3               college  female  \n",
       "4               college    male  "
      ]
     },
     "execution_count": 7,
     "metadata": {},
     "output_type": "execute_result"
    }
   ],
   "source": [
    "df['due_date']       = pd.to_datetime(df['due_date'])\n",
    "df['effective_date'] = pd.to_datetime(df['effective_date'])\n",
    "df.head()"
   ]
  },
  {
   "cell_type": "markdown",
   "metadata": {
    "button": false,
    "new_sheet": false,
    "run_control": {
     "read_only": false
    }
   },
   "source": [
    "# Data visualization and pre-processing"
   ]
  },
  {
   "cell_type": "markdown",
   "metadata": {
    "button": false,
    "new_sheet": false,
    "run_control": {
     "read_only": false
    }
   },
   "source": [
    "Let’s start by looking the 1-D distributions of the variables in the data-set.\n",
    "I am first going to define what is the target, numerical variables and categorical variables. \n",
    "I am excluding the datatime variables."
   ]
  },
  {
   "cell_type": "code",
   "execution_count": 118,
   "metadata": {
    "ExecuteTime": {
     "end_time": "2020-04-14T10:09:58.896964Z",
     "start_time": "2020-04-14T10:09:58.886434Z"
    }
   },
   "outputs": [],
   "source": [
    "# Definition of target, numeric and categorical variables\n",
    "target   = \"loan_status\"\n",
    "num_vars = [\"Principal\",\"age\"]\n",
    "cat_vars = [\"terms\",\"education\",\"Gender\"]"
   ]
  },
  {
   "cell_type": "markdown",
   "metadata": {
    "ExecuteTime": {
     "end_time": "2020-04-14T08:53:03.703553Z",
     "start_time": "2020-04-14T08:53:03.698807Z"
    }
   },
   "source": [
    "Let's first define a function for plotting the distribution of categorical variables (including the target)"
   ]
  },
  {
   "cell_type": "code",
   "execution_count": 126,
   "metadata": {
    "ExecuteTime": {
     "end_time": "2020-04-14T10:16:40.466738Z",
     "start_time": "2020-04-14T10:16:40.458341Z"
    },
    "button": false,
    "new_sheet": false,
    "run_control": {
     "read_only": false
    }
   },
   "outputs": [],
   "source": [
    "def autolabel(rects,ax):\n",
    "    \"\"\"Attach a text label above each bar in *rects*, displaying its height.\"\"\"\n",
    "    for rect in rects:\n",
    "        height = round(rect.get_height(),1)\n",
    "        ax.annotate('{}'.format(height),\n",
    "                    xy=(rect.get_x() + rect.get_width() / 2, height),\n",
    "                    xytext=(0, 3),  # 3 points vertical offset\n",
    "                    textcoords=\"offset points\",\n",
    "                    ha='center', va='bottom')\n",
    "\n",
    "def cat_vars_dist_plot(var_counts,\n",
    "                       figsize = (10,8),\n",
    "                       wi      = 0.45,\n",
    "                       color   = 'b'\n",
    "                      ):\n",
    "    \"\"\"\n",
    "    function for bar plotting of categorical variables\n",
    "    \"\"\"\n",
    "\n",
    "    labels      = list(var_counts.index)\n",
    "    values      = list(var_counts.values)\n",
    "    values_frac = list(100*var_counts.values/var_counts.values.sum())\n",
    "\n",
    "    x     = np.arange(len(labels))  # the label locations\n",
    "    width = wi  # the width of the bars\n",
    "\n",
    "    fig, ax = plt.subplots(nrows=1, ncols=2, figsize=figsize)\n",
    "\n",
    "    idx = 0\n",
    "    rects = ax[idx].bar(x, values, width,color=color)\n",
    "    # Add some text for labels, title and custom x-axis tick labels, etc.\n",
    "    ax[idx].set_ylabel('Occurences')\n",
    "    ax[idx].set_title(var_counts.name + ' distribution')\n",
    "    ax[idx].set_xticks(x)\n",
    "    ax[idx].set_xticklabels(labels)\n",
    "    # ax.legend()\n",
    "    autolabel(rects,ax[idx])\n",
    "\n",
    "    idx = 1\n",
    "    rects = ax[idx].bar(x, values_frac, width,color=color)\n",
    "    # Add some text for labels, title and custom x-axis tick labels, etc.\n",
    "    ax[idx].set_ylabel('Fraction Occurences (%)')\n",
    "    ax[idx].set_title(var_counts.name + ' distribution')\n",
    "    ax[idx].set_xticks(x)\n",
    "    ax[idx].set_xticklabels(labels)\n",
    "    # ax.legend()\n",
    "    autolabel(rects,ax[idx])\n",
    "\n",
    "    fig.tight_layout()\n",
    "\n",
    "    plt.show()\n",
    "    "
   ]
  },
  {
   "cell_type": "code",
   "execution_count": 127,
   "metadata": {
    "ExecuteTime": {
     "end_time": "2020-04-14T10:16:42.742746Z",
     "start_time": "2020-04-14T10:16:42.525495Z"
    }
   },
   "outputs": [
    {
     "data": {
      "image/png": "[encoded data removed]",
      "text/plain": [
       "<Figure size 720x360 with 2 Axes>"
      ]
     },
     "metadata": {
      "needs_background": "light"
     },
     "output_type": "display_data"
    }
   ],
   "source": [
    "# Loot at the target\n",
    "target_counts = df[target].value_counts()\n",
    "cat_vars_dist_plot(var_counts = target_counts,\n",
    "                   figsize    = (10,5),\n",
    "                   wi         = 0.45)"
   ]
  },
  {
   "cell_type": "markdown",
   "metadata": {},
   "source": [
    "260 people (75.1 %) have paid off the loan on time while 86 (24.9 %) have gone into collection.\n",
    "\n",
    "Let's now look rest of the categorical variables in the data-set."
   ]
  },
  {
   "cell_type": "code",
   "execution_count": 128,
   "metadata": {
    "ExecuteTime": {
     "end_time": "2020-04-14T10:16:45.974539Z",
     "start_time": "2020-04-14T10:16:45.366004Z"
    }
   },
   "outputs": [
    {
     "data": {
      "image/png": "[encoded data removed]",
      "text/plain": [
       "<Figure size 720x360 with 2 Axes>"
      ]
     },
     "metadata": {
      "needs_background": "light"
     },
     "output_type": "display_data"
    },
    {
     "data": {
      "image/png": "[encoded data removed]",
      "text/plain": [
       "<Figure size 720x360 with 2 Axes>"
      ]
     },
     "metadata": {
      "needs_background": "light"
     },
     "output_type": "display_data"
    },
    {
     "data": {
      "image/png": "[encoded data removed]",
      "text/plain": [
       "<Figure size 720x360 with 2 Axes>"
      ]
     },
     "metadata": {
      "needs_background": "light"
     },
     "output_type": "display_data"
    }
   ],
   "source": [
    "for col in cat_vars:\n",
    "    var_counts = df[col].value_counts()\n",
    "    if df[col].dtype != \"object\":\n",
    "        var_counts = var_counts.sort_index(ascending = True)\n",
    "        \n",
    "    cat_vars_dist_plot(var_counts = var_counts,\n",
    "                       figsize    = (10,5),\n",
    "                       wi         = 0.45)\n",
    "    "
   ]
  },
  {
   "cell_type": "markdown",
   "metadata": {
    "button": false,
    "new_sheet": false,
    "run_control": {
     "read_only": false
    }
   },
   "source": [
    "We can see that\n",
    " * Most of the people (96 %) apply for loans with terms of 15 and 30 days.\n",
    " * Almost half of the applicants (43.6 %) have a low level of education.\n",
    " * Most of the applicants (85 %) are men."
   ]
  },
  {
   "cell_type": "markdown",
   "metadata": {},
   "source": [
    "Lets now define a function for plotting the numeric variables"
   ]
  },
  {
   "cell_type": "code",
   "execution_count": 101,
   "metadata": {
    "ExecuteTime": {
     "end_time": "2020-04-14T09:43:51.792248Z",
     "start_time": "2020-04-14T09:43:51.781017Z"
    }
   },
   "outputs": [],
   "source": [
    "def num_vars_dist_plot(df,\n",
    "                       var_name,\n",
    "                       nbins   = 10,\n",
    "                       figsize = (10,5),\n",
    "                       color   = 'b',\n",
    "                       alpha   = 0.7,\n",
    "                      ):\n",
    "    \"\"\"\n",
    "    function for hist plotting of numeric variables\n",
    "    \"\"\"\n",
    "    \n",
    "    xmin,xmax = df[var_name].min(),df[var_name].max()\n",
    "    \n",
    "    percent   = 0.0001\n",
    "    delta     = xmax - xmin\n",
    "    xmin     -= percent*delta\n",
    "    xmax     += percent*delta\n",
    "\n",
    "    bins = np.linspace(xmin, xmax, nbins+1) \n",
    "    \n",
    "    porcent = 0.05\n",
    "    \n",
    "    fig, ax = plt.subplots(nrows=1, ncols=2, figsize=figsize)\n",
    "\n",
    "    idx = 0\n",
    "    n,_,_ = ax[idx].hist(x       = df[var_name],\n",
    "                         bins    = bins,\n",
    "                         color   = color,\n",
    "                         alpha   = alpha,\n",
    "                         density = False,\n",
    "                        )\n",
    "    # Add some text for labels, title and custom x-axis tick labels, etc.\n",
    "    ax[idx].set_xlim([bins[0],bins[-1]])\n",
    "    ax[idx].set_ylim([0,np.max(n)*(1.0 + porcent)])\n",
    "    ax[idx].set_xlabel(var_name)\n",
    "    ax[idx].set_ylabel('Occurences')\n",
    "    ax[idx].set_title(var_name + ' distribution')\n",
    "    \n",
    "    weights = (100/df[var_name].shape[0])*np.ones(df[var_name].shape[0])\n",
    "    \n",
    "    idx = 1\n",
    "    n,_,_ = ax[idx].hist(x       = df[var_name],\n",
    "                         bins    = bins,\n",
    "                         color   = color,\n",
    "                         alpha   = alpha,\n",
    "                         density = False,\n",
    "                         weights = weights,\n",
    "                        )\n",
    "    # Add some text for labels, title and custom x-axis tick labels, etc.\n",
    "    ax[idx].set_xlim([bins[0],bins[-1]])\n",
    "    ax[idx].set_ylim([0,np.max(n)*(1.0 + porcent)])\n",
    "    ax[idx].set_xlabel(var_name)\n",
    "    ax[idx].set_ylabel('Fractional occurrances (%)')\n",
    "    ax[idx].set_title(var_name + ' distribution')\n",
    "\n",
    "    fig.tight_layout()\n",
    "\n",
    "    plt.show()"
   ]
  },
  {
   "cell_type": "code",
   "execution_count": 103,
   "metadata": {
    "ExecuteTime": {
     "end_time": "2020-04-14T09:44:16.451065Z",
     "start_time": "2020-04-14T09:44:15.900752Z"
    }
   },
   "outputs": [
    {
     "data": {
      "image/png": "[encoded data removed]",
      "text/plain": [
       "<Figure size 720x360 with 2 Axes>"
      ]
     },
     "metadata": {
      "needs_background": "light"
     },
     "output_type": "display_data"
    },
    {
     "data": {
      "image/png": "[encoded data removed]",
      "text/plain": [
       "<Figure size 720x360 with 2 Axes>"
      ]
     },
     "metadata": {
      "needs_background": "light"
     },
     "output_type": "display_data"
    }
   ],
   "source": [
    "# Plot the distribution of the numerical variables\n",
    "for col in num_vars:\n",
    "    num_vars_dist_plot(df = df,\n",
    "                       var_name = col,\n",
    "                       nbins   = 10,\n",
    "                       figsize = (10,5),\n",
    "                       color   = 'b',\n",
    "                       alpha   = 0.5,\n",
    "                      )"
   ]
  },
  {
   "cell_type": "markdown",
   "metadata": {},
   "source": [
    "We observe that:\n",
    "* Most of of the loan applications are for amounts above 800 $\n",
    "* The applicant are relatively young, with a median value around 30 years old"
   ]
  },
  {
   "cell_type": "markdown",
   "metadata": {},
   "source": [
    "Lets now understand better the correlations amoung the variables. For this lets define \n",
    "a set of functions for visualization."
   ]
  },
  {
   "cell_type": "code",
   "execution_count": 113,
   "metadata": {
    "ExecuteTime": {
     "end_time": "2020-04-14T09:58:24.471084Z",
     "start_time": "2020-04-14T09:58:24.465406Z"
    }
   },
   "outputs": [],
   "source": [
    "def do_scatter_plot(df,\n",
    "                    var_name_x,\n",
    "                    var_name_y,\n",
    "                    figsize = (10,5),\n",
    "                    color   = 'b',\n",
    "                    marker  = 'o',\n",
    "                   ):\n",
    "    \"\"\"\n",
    "    function for scatter plotting of numeric vs numeric variables\n",
    "    \"\"\"\n",
    "    \n",
    "    percent   = 0.05\n",
    "    xmin,xmax = df[var_name_x].min(),df[var_name_x].max()\n",
    "    delta     = xmax - xmin\n",
    "    xmin     -= percent*delta\n",
    "    xmax     += percent*delta\n",
    "    \n",
    "    ymin,ymax = df[var_name_y].min(),df[var_name_y].max()\n",
    "    delta     = ymax - ymin\n",
    "    ymin     -= percent*delta\n",
    "    ymax     += percent*delta\n",
    "    \n",
    "    fig, ax = plt.subplots(nrows=1, ncols=1, figsize=figsize)\n",
    "\n",
    "    ax.scatter(x = df[var_name_x],\n",
    "               y = df[var_name_y],\n",
    "               color   = color,\n",
    "               marker  = marker,\n",
    "              )\n",
    "    # Add some text for labels, title and custom x-axis tick labels, etc.\n",
    "    ax.set_xlim([xmin,xmax])\n",
    "    ax.set_ylim([ymin,ymax])\n",
    "    ax.set_xlabel(var_name_x)\n",
    "    ax.set_ylabel(var_name_y)\n",
    "    ax.set_title(var_name_x + \" vs \" + var_name_y + ' distribution')\n",
    "\n",
    "    fig.tight_layout()\n",
    "\n",
    "    plt.show()\n",
    "    "
   ]
  },
  {
   "cell_type": "code",
   "execution_count": 123,
   "metadata": {
    "ExecuteTime": {
     "end_time": "2020-04-14T10:10:45.094199Z",
     "start_time": "2020-04-14T10:10:45.089001Z"
    }
   },
   "outputs": [],
   "source": [
    "# Function to explore categorical variables and correlations with the target\n",
    "def plot_box(df,\n",
    "             cat_var,\n",
    "             num_var,\n",
    "             figsize,\n",
    "             fontsize):\n",
    "\n",
    "    fig, ax = plt.subplots(nrows=1, ncols=1, figsize=figsize)\n",
    "            \n",
    "    # sns.boxplot(x=cat_var, y=num_var, data=df,order=order)\n",
    "    sns.boxplot(x=cat_var, y=num_var, data=df)\n",
    "    ax.set_xlabel(cat_var, fontsize=fontsize)\n",
    "    ax.set_ylabel(num_var, fontsize=fontsize)\n",
    "    \n",
    "    plt.show()\n",
    "    "
   ]
  },
  {
   "cell_type": "code",
   "execution_count": 261,
   "metadata": {
    "ExecuteTime": {
     "end_time": "2020-04-14T13:18:49.415579Z",
     "start_time": "2020-04-14T13:18:49.411401Z"
    }
   },
   "outputs": [],
   "source": [
    "def limit_ratio(p,z,M):\n",
    "    rrr  = p\n",
    "    rrr += z**2/(2*M)\n",
    "    rrr += z*np.sqrt((p*(1 - p)/M) + (z**2/(4*M**2)))\n",
    "    rrr /= 1 + z**2/M\n",
    "    \n",
    "    return rrr"
   ]
  },
  {
   "cell_type": "code",
   "execution_count": 283,
   "metadata": {
    "ExecuteTime": {
     "end_time": "2020-04-14T13:36:28.802530Z",
     "start_time": "2020-04-14T13:36:28.787214Z"
    }
   },
   "outputs": [],
   "source": [
    "# Function to explore categorical variables and correlations with the target\n",
    "def plot_box2(df,\n",
    "              cat_var,\n",
    "              num_var,\n",
    "              nbins,\n",
    "              figsize,\n",
    "              fontsize):\n",
    "\n",
    "    fig, ax = plt.subplots(nrows=1, ncols=3, figsize=figsize)\n",
    "    \n",
    "    idx = 0\n",
    "    percent   = 0.01\n",
    "    xmin,xmax = df[num_var].min(),df[num_var].max()\n",
    "    delta     = xmax - xmin\n",
    "    xmin     -= percent*delta\n",
    "    xmax     += percent*delta\n",
    "    \n",
    "    bins = np.linspace(xmin, xmax, nbins+1) \n",
    "    \n",
    "    levels = list(df[cat_var].unique())\n",
    "    colors = ['b','r','g','m']\n",
    "    \n",
    "    percent = 0.05\n",
    "    \n",
    "    nmax = -1.0e+20\n",
    "    occs = []\n",
    "    for i,lev in enumerate(levels):\n",
    "        cond = df[cat_var] == lev\n",
    "        n,_,_ = ax[idx].hist(x       = df.loc[cond,num_var],\n",
    "                             bins    = bins,\n",
    "                             color   = colors[i],\n",
    "                             alpha   = 0.5,\n",
    "                             density = True,\n",
    "                             label   = lev,\n",
    "                            )\n",
    "        occs.append(n)\n",
    "        if nmax < np.max(n):\n",
    "            nmax = np.max(n)\n",
    "        \n",
    "    # Add some text for labels, title and custom x-axis tick labels, etc.\n",
    "    ax[idx].set_xlim([bins[0],bins[-1]])\n",
    "    ax[idx].set_ylim([0,nmax*(1.0 + percent)])\n",
    "    ax[idx].set_xlabel(num_var)\n",
    "    ax[idx].set_ylabel('Norm occurences')\n",
    "    ax[idx].set_title(num_var + ' distribution vs ' + cat_var)\n",
    "    ax[idx].legend()\n",
    "    \n",
    "    idx = 1\n",
    "    the_label = levels[0]\n",
    "    xs         = []\n",
    "    weights    = []\n",
    "    weights_ep = []\n",
    "    weights_em = []\n",
    "    for i in range(len(bins)-1):\n",
    "        xs.append(0.5*(bins[i] + bins[i+1]))\n",
    "        \n",
    "        cond = (df[num_var] >= bins[i]) & (df[num_var] < bins[i+1])\n",
    "        Nd = df[cond].shape[0]\n",
    "        cond = cond & (df[cat_var] == labels[0])\n",
    "        Nn = df[cond].shape[0]\n",
    "        \n",
    "        w = Nn\n",
    "        if Nd > 0:\n",
    "            w /= Nd\n",
    "        \n",
    "        wep = 0.0\n",
    "        wem = 0.0\n",
    "        if Nd > 0:\n",
    "            wep = limit_ratio(p=w,z=+1,M=Nd)\n",
    "            wem = limit_ratio(p=w,z=-1,M=Nd)\n",
    "            \n",
    "        wep = np.abs(wep - w)\n",
    "        wem = np.abs(wem - w)\n",
    "                    \n",
    "        w   *= 100.0\n",
    "        wep *= 100.0\n",
    "        wem *= 100.0\n",
    "        \n",
    "        #print(\"w = {} +{}-{}, M = {}\".format(w,wep,wem,Nd))\n",
    "        \n",
    "        weights.append(w)\n",
    "        weights_ep.append(wep)\n",
    "        weights_em.append(wem)\n",
    "             \n",
    "    ax[idx].errorbar(x    = np.array(xs),\n",
    "                     y    = np.array(weights),\n",
    "                     yerr = [np.array(weights_em),np.array(weights_ep)],\n",
    "                     capsize = 3,\n",
    "                     fmt  = \"bo\",\n",
    "                     linewidth  = 3,\n",
    "                     elinewidth = 2,\n",
    "                     capthick   = 3,\n",
    "                     markersize = 6,\n",
    "                    )\n",
    "        \n",
    "    # Add some text for labels, title and custom x-axis tick labels, etc.\n",
    "    ax[idx].set_xlim([bins[0],bins[-1]])\n",
    "    ax[idx].set_ylim([0,110.0])\n",
    "    ax[idx].set_xlabel(num_var)\n",
    "    ax[idx].set_ylabel(the_label + ' Frac' + ' (%)')\n",
    "    ax[idx].set_title(the_label + ' faction vs ' + num_var)    \n",
    "    \n",
    "    idx = 2\n",
    "    # sns.boxplot(x=cat_var, y=num_var, data=df,order=order)\n",
    "    sns.boxplot(x=cat_var, y=num_var, data=df)\n",
    "    ax[idx].set_xlabel(cat_var, fontsize=fontsize)\n",
    "    ax[idx].set_ylabel(num_var, fontsize=fontsize)\n",
    "    \n",
    "    plt.show()\n",
    "    "
   ]
  },
  {
   "cell_type": "code",
   "execution_count": 195,
   "metadata": {
    "ExecuteTime": {
     "end_time": "2020-04-14T11:10:58.786275Z",
     "start_time": "2020-04-14T11:10:58.774940Z"
    }
   },
   "outputs": [],
   "source": [
    "def cat_vars_cor_plots(df,\n",
    "                       var_name1,\n",
    "                       var_name2,\n",
    "                       figsize = (10,8),\n",
    "                       wi      = 0.45,\n",
    "                      ):\n",
    "\n",
    "    labels1 = list(df[var_name1].unique())\n",
    "    labels2 = list(df[var_name2].unique())\n",
    "\n",
    "    var_name_x   = None\n",
    "    var_name_hue = None\n",
    "    if len(labels1) >= len(labels2):\n",
    "        var_name_x   = var_name1\n",
    "        var_name_hue = var_name2\n",
    "    else:\n",
    "        var_name_x   = var_name2\n",
    "        var_name_hue = var_name1\n",
    "\n",
    "    labels_hue = list(df[var_name_hue].unique())\n",
    "    labels     = list(df[var_name_x].unique())\n",
    "\n",
    "    values      = []\n",
    "    values_frac = []\n",
    "    for hue in labels_hue:\n",
    "        tmp_list = []\n",
    "        for lab in labels:\n",
    "            cond = (df[var_name_hue] == hue) & (df[var_name_x] == lab)\n",
    "            n = df[cond].shape[0]\n",
    "            tmp_list.append(n)\n",
    "        values.append(tmp_list)\n",
    "    \n",
    "    values_tot  = []\n",
    "    for lab in labels:\n",
    "        cond = df[var_name_x] == lab\n",
    "        n = df[cond].shape[0]\n",
    "        values_tot.append(n)\n",
    "        \n",
    "    for i,hue in enumerate(labels_hue):\n",
    "        tmp_list = []\n",
    "        for j,fff in enumerate(values[i]):\n",
    "            tmp_list.append(100*fff/values_tot[j])\n",
    "        values_frac.append(tmp_list)\n",
    "        \n",
    "    width_tot = wi\n",
    "    width     = width_tot/len(labels_hue)\n",
    "    if len(labels_hue) == 1:\n",
    "        shifts = [0]\n",
    "    else:\n",
    "        hhh = (len(labels_hue) - 1)/2\n",
    "        shifts = list(np.linspace(-hhh*width, +hhh*width, len(labels_hue)))\n",
    "\n",
    "    x = np.arange(len(labels))  # the label locations\n",
    "    fig, ax = plt.subplots(nrows=1, ncols=2, figsize=figsize)\n",
    "                     \n",
    "    idx = 0\n",
    "    rects = []\n",
    "    for i,hue in enumerate(labels_hue):\n",
    "        rects.append(  ax[idx].bar(x + shifts[i], values[i], width, label=hue)  )\n",
    "\n",
    "    # Add some text for labels, title and custom x-axis tick labels, etc.\n",
    "    ax[idx].set_ylabel('Occurrences')\n",
    "    ax[idx].set_title('Occurrences by ' + var_name_x + ' and ' + var_name_hue)\n",
    "    ax[idx].set_xticks(x)\n",
    "    ax[idx].set_xticklabels(labels)\n",
    "    ax[idx].legend()\n",
    "    \n",
    "    for i,hue in enumerate(labels_hue):\n",
    "        autolabel(rects[i],ax[idx])\n",
    "        \n",
    "    idx = 1\n",
    "    rects = []\n",
    "    for i,hue in enumerate(labels_hue):\n",
    "        rects.append(  ax[idx].bar(x + shifts[i], values_frac[i], width, label=hue)  )\n",
    "\n",
    "    # Add some text for labels, title and custom x-axis tick labels, etc.\n",
    "    ax[idx].set_ylabel('Frac Occurrence (%)')\n",
    "    ax[idx].set_title('Occurrences by ' + var_name_x + ' and ' + var_name_hue)\n",
    "    ax[idx].set_xticks(x)\n",
    "    ax[idx].set_xticklabels(labels)\n",
    "    ax[idx].legend()\n",
    "    \n",
    "    for i,hue in enumerate(labels_hue):\n",
    "        autolabel(rects[i],ax[idx])\n",
    "\n",
    "    fig.tight_layout()\n",
    "\n",
    "    plt.show()\n",
    "    "
   ]
  },
  {
   "cell_type": "code",
   "execution_count": 114,
   "metadata": {
    "ExecuteTime": {
     "end_time": "2020-04-14T09:58:25.469738Z",
     "start_time": "2020-04-14T09:58:25.302700Z"
    },
    "scrolled": true
   },
   "outputs": [
    {
     "data": {
      "image/png": "[encoded data removed]",
      "text/plain": [
       "<Figure size 720x360 with 1 Axes>"
      ]
     },
     "metadata": {
      "needs_background": "light"
     },
     "output_type": "display_data"
    }
   ],
   "source": [
    "for i in range(len(num_vars)):\n",
    "    for j in range(len(num_vars)):\n",
    "        if i >= j:\n",
    "            continue\n",
    "        \n",
    "        do_scatter_plot(df = df,\n",
    "                        var_name_x = num_vars[i],\n",
    "                        var_name_y = num_vars[j],\n",
    "                        figsize = (10,5),\n",
    "                        color   = 'b',\n",
    "                        marker  = 'o',\n",
    "                       )\n",
    "            "
   ]
  },
  {
   "cell_type": "code",
   "execution_count": 124,
   "metadata": {
    "ExecuteTime": {
     "end_time": "2020-04-14T10:10:48.474007Z",
     "start_time": "2020-04-14T10:10:47.757251Z"
    },
    "scrolled": true
   },
   "outputs": [
    {
     "data": {
      "image/png": "[encoded data removed]",
      "text/plain": [
       "<Figure size 576x576 with 1 Axes>"
      ]
     },
     "metadata": {
      "needs_background": "light"
     },
     "output_type": "display_data"
    },
    {
     "data": {
      "image/png": "[encoded data removed]",
      "text/plain": [
       "<Figure size 576x576 with 1 Axes>"
      ]
     },
     "metadata": {
      "needs_background": "light"
     },
     "output_type": "display_data"
    },
    {
     "data": {
      "image/png": "[encoded data removed]",
      "text/plain": [
       "<Figure size 576x576 with 1 Axes>"
      ]
     },
     "metadata": {
      "needs_background": "light"
     },
     "output_type": "display_data"
    },
    {
     "data": {
      "image/png": "[encoded data removed]",
      "text/plain": [
       "<Figure size 576x576 with 1 Axes>"
      ]
     },
     "metadata": {
      "needs_background": "light"
     },
     "output_type": "display_data"
    },
    {
     "data": {
      "image/png": "[encoded data removed]",
      "text/plain": [
       "<Figure size 576x576 with 1 Axes>"
      ]
     },
     "metadata": {
      "needs_background": "light"
     },
     "output_type": "display_data"
    },
    {
     "data": {
      "image/png": "[encoded data removed]",
      "text/plain": [
       "<Figure size 576x576 with 1 Axes>"
      ]
     },
     "metadata": {
      "needs_background": "light"
     },
     "output_type": "display_data"
    }
   ],
   "source": [
    "for col_cat in cat_vars:\n",
    "    for col_num in num_vars:\n",
    "            \n",
    "        plot_box(df = df,\n",
    "                 cat_var = col_cat,\n",
    "                 num_var = col_num,\n",
    "                 figsize = (8,8),\n",
    "                 fontsize = 12)"
   ]
  },
  {
   "cell_type": "code",
   "execution_count": 197,
   "metadata": {
    "ExecuteTime": {
     "end_time": "2020-04-14T11:12:13.479025Z",
     "start_time": "2020-04-14T11:12:12.561303Z"
    },
    "scrolled": true
   },
   "outputs": [
    {
     "data": {
      "image/png": "[encoded data removed]",
      "text/plain": [
       "<Figure size 1080x360 with 2 Axes>"
      ]
     },
     "metadata": {
      "needs_background": "light"
     },
     "output_type": "display_data"
    },
    {
     "data": {
      "image/png": "[encoded data removed]",
      "text/plain": [
       "<Figure size 1080x360 with 2 Axes>"
      ]
     },
     "metadata": {
      "needs_background": "light"
     },
     "output_type": "display_data"
    },
    {
     "data": {
      "image/png": "[encoded data removed]",
      "text/plain": [
       "<Figure size 1080x360 with 2 Axes>"
      ]
     },
     "metadata": {
      "needs_background": "light"
     },
     "output_type": "display_data"
    }
   ],
   "source": [
    "for i,col1 in enumerate(cat_vars):\n",
    "    for j,col2 in enumerate(cat_vars):\n",
    "        if i >= j:\n",
    "            continue\n",
    "        \n",
    "        cat_vars_cor_plots(df = df,\n",
    "                           var_name1 = col1,\n",
    "                           var_name2 = col2,\n",
    "                           figsize = (15,5),\n",
    "                           wi      = 0.6,\n",
    "                          )"
   ]
  },
  {
   "cell_type": "code",
   "execution_count": 284,
   "metadata": {
    "ExecuteTime": {
     "end_time": "2020-04-14T13:36:35.006700Z",
     "start_time": "2020-04-14T13:36:34.356280Z"
    }
   },
   "outputs": [
    {
     "data": {
      "image/png": "[encoded data removed]",
      "text/plain": [
       "<Figure size 1080x360 with 3 Axes>"
      ]
     },
     "metadata": {
      "needs_background": "light"
     },
     "output_type": "display_data"
    },
    {
     "data": {
      "image/png": "[encoded data removed]",
      "text/plain": [
       "<Figure size 1080x360 with 3 Axes>"
      ]
     },
     "metadata": {
      "needs_background": "light"
     },
     "output_type": "display_data"
    }
   ],
   "source": [
    "for col_num in num_vars:\n",
    "    plot_box2(df = df,\n",
    "              cat_var = target,\n",
    "              num_var = col_num,\n",
    "              nbins   = 10,\n",
    "              figsize = (15,5),\n",
    "              fontsize = 12)"
   ]
  },
  {
   "cell_type": "code",
   "execution_count": 200,
   "metadata": {
    "ExecuteTime": {
     "end_time": "2020-04-14T11:14:10.965387Z",
     "start_time": "2020-04-14T11:14:10.236796Z"
    },
    "scrolled": true
   },
   "outputs": [
    {
     "data": {
      "image/png": "[encoded data removed]",
      "text/plain": [
       "<Figure size 1080x360 with 2 Axes>"
      ]
     },
     "metadata": {
      "needs_background": "light"
     },
     "output_type": "display_data"
    },
    {
     "data": {
      "image/png": "[encoded data removed]",
      "text/plain": [
       "<Figure size 1080x360 with 2 Axes>"
      ]
     },
     "metadata": {
      "needs_background": "light"
     },
     "output_type": "display_data"
    },
    {
     "data": {
      "image/png": "[encoded data removed]",
      "text/plain": [
       "<Figure size 1080x360 with 2 Axes>"
      ]
     },
     "metadata": {
      "needs_background": "light"
     },
     "output_type": "display_data"
    }
   ],
   "source": [
    "for col in cat_vars:\n",
    "    cat_vars_cor_plots(df = df,\n",
    "                       var_name1 = col,\n",
    "                       var_name2 = target,\n",
    "                       figsize = (15,5),\n",
    "                       wi      = 0.6,\n",
    "                      )"
   ]
  },
  {
   "cell_type": "markdown",
   "metadata": {},
   "source": [
    "Lets plot some columns to underestand data better:"
   ]
  },
  {
   "cell_type": "code",
   "execution_count": null,
   "metadata": {},
   "outputs": [],
   "source": [
    "# notice: installing seaborn might takes a few minutes\n",
    "# !conda install -c anaconda seaborn -y"
   ]
  },
  {
   "cell_type": "code",
   "execution_count": null,
   "metadata": {},
   "outputs": [],
   "source": [
    "import seaborn as sns"
   ]
  },
  {
   "cell_type": "code",
   "execution_count": null,
   "metadata": {},
   "outputs": [],
   "source": [
    "def nice_plot(df,\n",
    "              x_var,\n",
    "              minmax = None,\n",
    "              col = 'Gender',\n",
    "              hue = 'loan_status',\n",
    "              pos_label = 'PAIDOFF',\n",
    "              anbins = 10,\n",
    "              afigsize    = (7,3),\n",
    "              afontsize   = 6,\n",
    "             ):\n",
    "    \n",
    "    nbins      = anbins\n",
    "    figsize    = afigsize\n",
    "    fontsize   = afontsize\n",
    "\n",
    "    # x_var = \"Principal\"\n",
    "    xmin    = None\n",
    "    xmax    = None\n",
    "    percent = 0.001\n",
    "    if minmax is None:\n",
    "        xmin,xmax = df[x_var].min(),df[x_var].max()\n",
    "    else:\n",
    "        xmin,xmax = minmax\n",
    "        percent   = 0.0\n",
    "        nbins     = int(xmax - xmin)\n",
    "        \n",
    "    delta     = xmax - xmin\n",
    "    xmin     -= percent*delta\n",
    "    xmax     += percent*delta\n",
    "\n",
    "    bins = np.linspace(xmin, xmax, nbins+1)\n",
    "    g = sns.FacetGrid(df, col=col, hue=hue, palette=\"Set1\", col_wrap=2)\n",
    "    g.map(plt.hist, x_var, bins=bins, ec=\"k\")\n",
    "\n",
    "    g.axes[-1].legend()\n",
    "    plt.show()\n",
    "\n",
    "\n",
    "    fig, ax = plt.subplots(nrows=1, ncols=2, figsize=figsize)\n",
    "    gender_list = list(df[col].unique())\n",
    "    for idx,gen in enumerate(gender_list):\n",
    "        x_values = []\n",
    "        y_values = []\n",
    "        for i in range(len(bins)-1):\n",
    "            cond_x    = (df[x_var] >= bins[i]) & (df[x_var] < bins[i+1])\n",
    "            cond_good = df[hue] == pos_label\n",
    "            cond_gend = df[col] == gen\n",
    "            cond_all= cond_x & cond_gend\n",
    "            x_values.append(0.5*(bins[i] + bins[i+1]))\n",
    "            Ngood = df[(cond_all) & (cond_good)].shape[0]\n",
    "            Nall  = df[(cond_all)].shape[0]\n",
    "            if Nall == 0:\n",
    "                y_values.append(-1)\n",
    "            else:\n",
    "                y_values.append(100*Ngood/Nall)\n",
    "\n",
    "        ax[idx].errorbar(x = np.array(x_values),\n",
    "                         y = np.array(y_values),\n",
    "                         yerr = 0,\n",
    "                         fmt  = \"bo\",\n",
    "                         linewidth  = 3,\n",
    "                         markersize = 4,\n",
    "                        )\n",
    "\n",
    "        ax[idx].set_xlim([bins[0],bins[-1]])\n",
    "        ax[idx].set_ylim([0,110])\n",
    "        ax[idx].set_xlabel(x_var, fontsize=fontsize)\n",
    "        ax[idx].set_ylabel(pos_label + ' frac (%)', fontsize=fontsize)\n",
    "        ax[idx].set_title(col + ' = ' + gen, fontsize=fontsize)\n",
    "\n",
    "    plt.show()\n",
    "    "
   ]
  },
  {
   "cell_type": "code",
   "execution_count": null,
   "metadata": {},
   "outputs": [],
   "source": [
    "nice_plot(df = df,\n",
    "          x_var = \"Principal\",\n",
    "          minmax = None,\n",
    "          col = 'Gender',\n",
    "          hue = 'loan_status',\n",
    "          pos_label = 'PAIDOFF',\n",
    "          anbins = 10,\n",
    "          afigsize    = (7,3),\n",
    "          afontsize   = 8)"
   ]
  },
  {
   "cell_type": "code",
   "execution_count": null,
   "metadata": {
    "button": false,
    "new_sheet": false,
    "run_control": {
     "read_only": false
    }
   },
   "outputs": [],
   "source": [
    "nice_plot(df = df,\n",
    "          x_var = \"age\",\n",
    "          minmax = None,\n",
    "          col = 'Gender',\n",
    "          hue = 'loan_status',\n",
    "          pos_label = 'PAIDOFF',\n",
    "          anbins = 10,\n",
    "          afigsize    = (7,3),\n",
    "          afontsize   = 8)"
   ]
  },
  {
   "cell_type": "markdown",
   "metadata": {},
   "source": [
    "It doesn't seem to be a correlation between the age and the likelihood of paying a loan"
   ]
  },
  {
   "cell_type": "markdown",
   "metadata": {
    "button": false,
    "new_sheet": false,
    "run_control": {
     "read_only": false
    }
   },
   "source": [
    "# Pre-processing:  Feature selection/extraction"
   ]
  },
  {
   "cell_type": "markdown",
   "metadata": {
    "button": false,
    "new_sheet": false,
    "run_control": {
     "read_only": false
    }
   },
   "source": [
    "### Lets look at the day of the week people get the loan "
   ]
  },
  {
   "cell_type": "code",
   "execution_count": null,
   "metadata": {},
   "outputs": [],
   "source": [
    "df['dayofweek'] = df['effective_date'].dt.dayofweek"
   ]
  },
  {
   "cell_type": "code",
   "execution_count": null,
   "metadata": {
    "button": false,
    "new_sheet": false,
    "run_control": {
     "read_only": false
    }
   },
   "outputs": [],
   "source": [
    "nice_plot(df = df,\n",
    "          x_var = \"dayofweek\",\n",
    "          minmax = (0.0-0.5,6+0.5),\n",
    "          col = 'Gender',\n",
    "          hue = 'loan_status',\n",
    "          pos_label = 'PAIDOFF',\n",
    "          anbins = 10,\n",
    "          afigsize    = (7,3),\n",
    "          afontsize   = 8)"
   ]
  },
  {
   "cell_type": "markdown",
   "metadata": {
    "button": false,
    "new_sheet": false,
    "run_control": {
     "read_only": false
    }
   },
   "source": [
    "We see that people who get the loan at the end of the week dont pay it off, so lets use Feature binarization to set a threshold values less then day 4 "
   ]
  },
  {
   "cell_type": "code",
   "execution_count": null,
   "metadata": {
    "button": false,
    "new_sheet": false,
    "run_control": {
     "read_only": false
    }
   },
   "outputs": [],
   "source": [
    "df['weekend'] = df['dayofweek'].apply(lambda x: 1 if (x>3)  else 0)\n",
    "df.head()"
   ]
  },
  {
   "cell_type": "markdown",
   "metadata": {},
   "source": [
    "### Lets look at the day of the week when people have to pay the loan "
   ]
  },
  {
   "cell_type": "code",
   "execution_count": null,
   "metadata": {},
   "outputs": [],
   "source": [
    "df['dayofweek_pay'] = df['due_date'].dt.dayofweek"
   ]
  },
  {
   "cell_type": "code",
   "execution_count": null,
   "metadata": {},
   "outputs": [],
   "source": [
    "nice_plot(df = df,\n",
    "          x_var = \"dayofweek_pay\",\n",
    "          minmax = (0.0-0.5,6+0.5),\n",
    "          col = 'Gender',\n",
    "          hue = 'loan_status',\n",
    "          pos_label = 'PAIDOFF',\n",
    "          anbins = 10,\n",
    "          afigsize    = (7,3),\n",
    "          afontsize   = 8)"
   ]
  },
  {
   "cell_type": "markdown",
   "metadata": {},
   "source": [
    "It seems that people miss to pay the loan when the due date is either the begining of the week or the weekend"
   ]
  },
  {
   "cell_type": "markdown",
   "metadata": {},
   "source": [
    "### Visualizing the time people have  to paye the loan"
   ]
  },
  {
   "cell_type": "code",
   "execution_count": null,
   "metadata": {},
   "outputs": [],
   "source": [
    "factor_sec_to_days = 1./(24*3600.)\n",
    "df['time_to_pay_days'] = (df['due_date'] - df['effective_date']).dt.total_seconds()*factor_sec_to_days\n",
    "df.head()"
   ]
  },
  {
   "cell_type": "code",
   "execution_count": null,
   "metadata": {},
   "outputs": [],
   "source": [
    "nice_plot(df = df,\n",
    "          x_var = \"time_to_pay_days\",\n",
    "          minmax = None,\n",
    "          col = 'Gender',\n",
    "          hue = 'loan_status',\n",
    "          pos_label = 'PAIDOFF',\n",
    "          anbins = 10,\n",
    "          afigsize    = (7,3),\n",
    "          afontsize   = 8)"
   ]
  },
  {
   "cell_type": "code",
   "execution_count": null,
   "metadata": {},
   "outputs": [],
   "source": [
    "ggg = df['time_to_pay_days'].unique()\n",
    "print(ggg)"
   ]
  },
  {
   "cell_type": "code",
   "execution_count": null,
   "metadata": {},
   "outputs": [],
   "source": [
    "nice_plot(df = df,\n",
    "          x_var = \"terms\",\n",
    "          minmax = None,\n",
    "          col = 'Gender',\n",
    "          hue = 'loan_status',\n",
    "          pos_label = 'PAIDOFF',\n",
    "          anbins = 10,\n",
    "          afigsize    = (7,3),\n",
    "          afontsize   = 8)"
   ]
  },
  {
   "cell_type": "code",
   "execution_count": null,
   "metadata": {},
   "outputs": [],
   "source": [
    "ggg = df['terms'].unique()\n",
    "print(ggg)"
   ]
  },
  {
   "cell_type": "code",
   "execution_count": null,
   "metadata": {},
   "outputs": [],
   "source": [
    "df['due_time_o_terms'] = ((df['time_to_pay_days']+1)/df['terms'])"
   ]
  },
  {
   "cell_type": "code",
   "execution_count": null,
   "metadata": {},
   "outputs": [],
   "source": [
    "figsize    = (7,3)\n",
    "fontsize   = 8\n",
    "    \n",
    "x_var = 'due_time_o_terms'\n",
    "y_var = 'time_to_pay_days'\n",
    "\n",
    "xmin,xmax = df[x_var].min(),df[x_var].max()\n",
    "ymin,ymax = df[y_var].min(),df[y_var].max()\n",
    "\n",
    "percent   = 0.01\n",
    "delta     = xmax - xmin\n",
    "xmin     -= percent*delta\n",
    "xmax     += percent*delta\n",
    "\n",
    "delta     = ymax - ymin\n",
    "ymin     -= percent*delta\n",
    "ymax     += percent*delta\n",
    "ymin      = 0.0\n",
    "\n",
    "# bins = np.linspace(xmin, xmax, nbins+1)\n",
    "\n",
    "fig, ax = plt.subplots(nrows=1, ncols=2, figsize=figsize)\n",
    "gender_list = list(df['Gender'].unique())\n",
    "for idx,gen in enumerate(gender_list):\n",
    "    cond = df['Gender'] == gen\n",
    "    ax[idx].scatter(x = df.loc[cond,x_var],\n",
    "                    y = df.loc[cond,y_var],\n",
    "                    c = 'b',\n",
    "                    # linewidth  = 3,\n",
    "                    # markersize = 4,\n",
    "                   )\n",
    "\n",
    "    ax[idx].set_xlim([xmin,xmax])\n",
    "    ax[idx].set_ylim([ymin,ymax])\n",
    "    ax[idx].set_xlabel(x_var, fontsize=fontsize)\n",
    "    ax[idx].set_ylabel(y_var, fontsize=fontsize)\n",
    "    ax[idx].set_title('Gender = ' + gen, fontsize=fontsize)\n",
    "\n",
    "plt.show()"
   ]
  },
  {
   "cell_type": "markdown",
   "metadata": {},
   "source": [
    "It seems that longer the due time for paying the loan, less likely are the people able to pay it.  \n",
    "Lets look at the correlation between Principal and time_to_pay_days."
   ]
  },
  {
   "cell_type": "code",
   "execution_count": null,
   "metadata": {},
   "outputs": [],
   "source": [
    "figsize    = (7,3)\n",
    "fontsize   = 8\n",
    "    \n",
    "x_var = 'Principal'\n",
    "y_var = 'time_to_pay_days'\n",
    "\n",
    "xmin,xmax = df[x_var].min(),df[x_var].max()\n",
    "ymin,ymax = df[y_var].min(),df[y_var].max()\n",
    "\n",
    "percent   = 0.01\n",
    "delta     = xmax - xmin\n",
    "xmin     -= percent*delta\n",
    "xmax     += percent*delta\n",
    "\n",
    "delta     = ymax - ymin\n",
    "ymin     -= percent*delta\n",
    "ymax     += percent*delta\n",
    "ymin      = 0.0\n",
    "\n",
    "# bins = np.linspace(xmin, xmax, nbins+1)\n",
    "\n",
    "fig, ax = plt.subplots(nrows=1, ncols=2, figsize=figsize)\n",
    "gender_list = list(df['Gender'].unique())\n",
    "for idx,gen in enumerate(gender_list):\n",
    "    cond = df['Gender'] == gen\n",
    "    ax[idx].scatter(x = df.loc[cond,x_var],\n",
    "                    y = df.loc[cond,y_var],\n",
    "                    c = 'b',\n",
    "                    # linewidth  = 3,\n",
    "                    # markersize = 4,\n",
    "                   )\n",
    "\n",
    "    ax[idx].set_xlim([xmin,xmax])\n",
    "    ax[idx].set_ylim([ymin,ymax])\n",
    "    ax[idx].set_xlabel(x_var, fontsize=fontsize)\n",
    "    ax[idx].set_ylabel(y_var, fontsize=fontsize)\n",
    "    ax[idx].set_title('Gender = ' + gen, fontsize=fontsize)\n",
    "\n",
    "plt.show()"
   ]
  },
  {
   "cell_type": "markdown",
   "metadata": {
    "button": false,
    "new_sheet": false,
    "run_control": {
     "read_only": false
    }
   },
   "source": [
    "## Convert Categorical features to numerical values"
   ]
  },
  {
   "cell_type": "markdown",
   "metadata": {
    "button": false,
    "new_sheet": false,
    "run_control": {
     "read_only": false
    }
   },
   "source": [
    "Lets look at gender:"
   ]
  },
  {
   "cell_type": "code",
   "execution_count": null,
   "metadata": {
    "button": false,
    "new_sheet": false,
    "run_control": {
     "read_only": false
    }
   },
   "outputs": [],
   "source": [
    "df.groupby(['Gender'])['loan_status'].value_counts(normalize=True)"
   ]
  },
  {
   "cell_type": "markdown",
   "metadata": {
    "button": false,
    "new_sheet": false,
    "run_control": {
     "read_only": false
    }
   },
   "source": [
    "86 % of female pay there loans while only 73 % of males pay there loan\n"
   ]
  },
  {
   "cell_type": "markdown",
   "metadata": {
    "button": false,
    "new_sheet": false,
    "run_control": {
     "read_only": false
    }
   },
   "source": [
    "Lets convert male to 0 and female to 1:\n"
   ]
  },
  {
   "cell_type": "markdown",
   "metadata": {
    "button": false,
    "new_sheet": false,
    "run_control": {
     "read_only": false
    }
   },
   "source": [
    "How about education?"
   ]
  },
  {
   "cell_type": "code",
   "execution_count": null,
   "metadata": {
    "button": false,
    "new_sheet": false,
    "run_control": {
     "read_only": false
    }
   },
   "outputs": [],
   "source": [
    "df.groupby(['education'])['loan_status'].value_counts(normalize=True)"
   ]
  },
  {
   "cell_type": "markdown",
   "metadata": {},
   "source": [
    "It seems that there isn't a big correlation with the education level"
   ]
  },
  {
   "cell_type": "markdown",
   "metadata": {
    "button": false,
    "new_sheet": false,
    "run_control": {
     "read_only": false
    }
   },
   "source": [
    "# Install some libraries to be used when building the estimator pipelines "
   ]
  },
  {
   "cell_type": "code",
   "execution_count": null,
   "metadata": {},
   "outputs": [],
   "source": [
    "# !conda update setuptools"
   ]
  },
  {
   "cell_type": "code",
   "execution_count": null,
   "metadata": {},
   "outputs": [],
   "source": [
    "# notice: installing dask-ml might takes a few minutes\n",
    "# !conda install -c anaconda dask-ml=0.12.0 -y"
   ]
  },
  {
   "cell_type": "code",
   "execution_count": null,
   "metadata": {},
   "outputs": [],
   "source": [
    "from dask_ml.preprocessing import Categorizer, DummyEncoder, StandardScaler"
   ]
  },
  {
   "cell_type": "markdown",
   "metadata": {},
   "source": [
    "## Automatise preprocessing\n",
    "Put all the global preprocessing steps into a single function"
   ]
  },
  {
   "cell_type": "code",
   "execution_count": null,
   "metadata": {},
   "outputs": [],
   "source": [
    "def do_global_preprocessing(df):\n",
    "    \"\"\" \n",
    "    This function sumarizes all the global preprocessing steps defined in the cells above \n",
    "    for exploration data analysis (data cleaning and feature engineering)\n",
    "    \"\"\"\n",
    "    \n",
    "    # Copy the data\n",
    "    df_copy = df.copy()\n",
    "    \n",
    "    # Convert data columns to datatime format\n",
    "    data_cols = [c for c in df_copy.columns if \"date\" in c]\n",
    "    for col in data_cols:\n",
    "        df_copy[col] = pd.to_datetime(df_copy[col])\n",
    "    \n",
    "    # Generate the dayofweek feature\n",
    "    df_copy['dayofweek'] = df_copy['effective_date'].dt.dayofweek\n",
    "    \n",
    "    # Generate the weekend feature\n",
    "    df_copy['weekend'] = df_copy['dayofweek'].apply(lambda x: 1 if (x>3)  else 0)\n",
    "    \n",
    "    # Generate the dayofweek_pay feature\n",
    "    df_copy['dayofweek_pay'] = df_copy['due_date'].dt.dayofweek\n",
    "    # Generate the middle_week_pay feature\n",
    "    df_copy['middle_week_pay'] = df_copy['dayofweek_pay'].apply(lambda x: 1 if (x == 0 or x>3)  else 0)\n",
    "    \n",
    "    # Generate the time_to_pay_days feature\n",
    "    # This is the time the clients have to pay the loan, i.e due_date - effective_data\n",
    "    factor_sec_to_days = 1./(24*3600.)\n",
    "    df_copy['time_to_pay_days'] = (df_copy['due_date'] - df_copy['effective_date']).dt.total_seconds()*factor_sec_to_days\n",
    "    \n",
    "    # Convert the target to binary variable\n",
    "    df_copy['loan_status'].replace(to_replace=['PAIDOFF','COLLECTION'], value=[1,0],inplace=True)\n",
    "    \n",
    "    return df_copy\n",
    "    "
   ]
  },
  {
   "cell_type": "code",
   "execution_count": null,
   "metadata": {},
   "outputs": [],
   "source": [
    "# Show the data previous to the global preprocessing\n",
    "df_for_fit.head()"
   ]
  },
  {
   "cell_type": "code",
   "execution_count": null,
   "metadata": {},
   "outputs": [],
   "source": [
    "# Preprocess the data and show it\n",
    "df_for_fit_prep = do_global_preprocessing(df_for_fit)\n",
    "df_for_fit_prep.head()"
   ]
  },
  {
   "cell_type": "code",
   "execution_count": null,
   "metadata": {},
   "outputs": [],
   "source": [
    "# Now define the training data, serparating the predictors and the target\n",
    "X_train = df_for_fit_prep\n",
    "y_train = X_train.pop(\"loan_status\")"
   ]
  },
  {
   "cell_type": "markdown",
   "metadata": {
    "button": false,
    "new_sheet": false,
    "run_control": {
     "read_only": false
    }
   },
   "source": [
    "### Feature selection"
   ]
  },
  {
   "cell_type": "markdown",
   "metadata": {
    "button": false,
    "new_sheet": false,
    "run_control": {
     "read_only": false
    }
   },
   "source": [
    "Lets define a class sklearn pipeline compatible to select the features for model training"
   ]
  },
  {
   "cell_type": "code",
   "execution_count": null,
   "metadata": {},
   "outputs": [],
   "source": [
    "from sklearn.base import BaseEstimator, TransformerMixin\n",
    "\n",
    "class FeatureSelector(BaseEstimator, TransformerMixin):\n",
    "    \"\"\"\n",
    "    Select a list of features from data\n",
    "\n",
    "    parameters:\n",
    "    -----------\n",
    "      columns: str or list of str, list of columns to select\n",
    "    \"\"\"\n",
    "\n",
    "    def __init__(self, columns=None):\n",
    "        # list of columns specified to be selected\n",
    "        self.columns = columns\n",
    "\n",
    "    def get_cols(self,X):\n",
    "        \"\"\" Build the list of columns to select \"\"\"\n",
    "\n",
    "        cols = []\n",
    "        # check if the list of columns specified by the user is in data list of columns\n",
    "        if self.columns is None:\n",
    "            return cols\n",
    "\n",
    "        cols = list(set(X.columns).intersection(set(self.columns)))\n",
    "\n",
    "        return cols\n",
    "\n",
    "    def fit(self, X, y=None):\n",
    "        # Add the possibility to give as input a string instead of a list\n",
    "        if isinstance(self.columns,list):\n",
    "            pass\n",
    "        elif isinstance(self.columns,str):\n",
    "            # if the input is a string converted to the list with a single element\n",
    "            self.columns = [self.columns]\n",
    "        else:\n",
    "            raise ValueError(\"FeatureSelector (fit): columns parameter has to be either a string or a list of strings.\")\n",
    "\n",
    "        self.selected_columns = self.get_cols(X)\n",
    "            \n",
    "        return self\n",
    "\n",
    "    def transform(self, X, y=None):\n",
    "        if len(self.selected_columns) == 0:\n",
    "            # If selected columns is empy do nothing\n",
    "            return X\n",
    "        else:\n",
    "            # Use only the columns in the data in the selected_columns list\n",
    "            return  X.loc[:,self.selected_columns]\n",
    "    "
   ]
  },
  {
   "cell_type": "markdown",
   "metadata": {
    "button": false,
    "new_sheet": false,
    "run_control": {
     "read_only": false
    }
   },
   "source": [
    "# Classification "
   ]
  },
  {
   "cell_type": "markdown",
   "metadata": {
    "button": false,
    "new_sheet": false,
    "run_control": {
     "read_only": false
    }
   },
   "source": [
    "Now, it is your turn, use the training set to build an accurate model. Then use the test set to report the accuracy of the model\n",
    "You should use the following algorithm:\n",
    "- K Nearest Neighbor(KNN)\n",
    "- Decision Tree\n",
    "- Support Vector Machine\n",
    "- Logistic Regression\n",
    "\n",
    "\n",
    "\n",
    "__ Notice:__ \n",
    "- You can go above and change the pre-processing, feature selection, feature-extraction, and so on, to make a better model.\n",
    "- You should use either scikit-learn, Scipy or Numpy libraries for developing the classification algorithms.\n",
    "- You should include the code of the algorithm in the following cells."
   ]
  },
  {
   "cell_type": "markdown",
   "metadata": {},
   "source": [
    "# Preprocessing pipeline"
   ]
  },
  {
   "cell_type": "markdown",
   "metadata": {},
   "source": [
    "Will start by defining a couple of functions to be used in the process of model optimization, which is grid-search CV"
   ]
  },
  {
   "cell_type": "markdown",
   "metadata": {},
   "source": [
    "The function below counts the number of parameters combinations that are going to be tested during grid-search CV"
   ]
  },
  {
   "cell_type": "code",
   "execution_count": null,
   "metadata": {},
   "outputs": [],
   "source": [
    "def count_number_of_fits(grid_params):\n",
    "    \"\"\"\n",
    "    Count the number of parameter combinations to be tested during grid-search CV\n",
    "    \n",
    "    parameters\n",
    "    ----------\n",
    "       grid_params: a dictionary with the grid values of the parameters\n",
    "    \"\"\"\n",
    "    \n",
    "    nfits = 1\n",
    "    for k,v in grid_params.items():\n",
    "        nfits *= len(v)\n",
    "        \n",
    "    return nfits\n"
   ]
  },
  {
   "cell_type": "markdown",
   "metadata": {},
   "source": [
    "The function below prints out a summary of the grid-search CV optimization process"
   ]
  },
  {
   "cell_type": "code",
   "execution_count": null,
   "metadata": {},
   "outputs": [],
   "source": [
    "def  summary_results(gscv,name):\n",
    "    \"\"\"\n",
    "    Print summary of results from grid search CV\n",
    "    \"\"\"\n",
    "    \n",
    "    msg = '\\n{0:-^31}\\n'.format('Summary {}'.format(name))\n",
    "\n",
    "    cv_res = gscv.cv_results_\n",
    "    \n",
    "    row = gscv.best_index_\n",
    "\n",
    "    # print best estimator metrics\n",
    "    msg += '\\n{0:>20s}\\n'.format('# Metrics of best estimator:')\n",
    "    msg += '{0:_>35}\\n'.format('')\n",
    "\n",
    "    msg += '{0:>20s}:{1:>10d}\\n'.format('Estimator index',row)\n",
    "    \n",
    "    param_refit_scorer = gscv.get_params().get('refit')\n",
    "    if type(param_refit_scorer) is str:\n",
    "        msg += '{0:>20s}:{1:>10s}\\n'.format('Refit scorer',param_refit_scorer)\n",
    "\n",
    "    refit_time_value = gscv.refit_time_\n",
    "    suffix = 'sec'\n",
    "    msg += '{0:>20s}:{1:>10.5f}{2:>4s}\\n'.format('Refit time',refit_time_value,suffix)\n",
    "    \n",
    "    suffix = 'sec'\n",
    "    msg += '{0:>20s}:{1:>10.5f}{2:>4s}\\n'.format('mean_fit_time', cv_res.get('mean_fit_time')[row],suffix)\n",
    "    msg += '{0:>20s}:{1:>10.5f}{2:>4s}\\n'.format('std_fit_time',  cv_res.get('std_fit_time')[row],suffix)\n",
    "    \n",
    "    scorings = gscv.get_params().get('scoring')    \n",
    "    if type(scorings) == str:\n",
    "        scorings = [scorings]\n",
    "        \n",
    "    for score in scorings:\n",
    "        suffix = ''\n",
    "        par_name = 'mean_test_' + score\n",
    "        msg += '{0:>20s}:{1:>10.5f}{2:>4s}\\n'.format(par_name, cv_res.get(par_name)[row],suffix)\n",
    "        par_name = 'std_test_' + score\n",
    "        msg += '{0:>20s}:{1:>10.5f}{2:>4s}\\n'.format(par_name, cv_res.get(par_name)[row],suffix)\n",
    "        \n",
    "    msg += '{0:_>35}\\n'.format('')\n",
    "    msg += '\\n'\n",
    "\n",
    "    # print best hyperparamters values\n",
    "    params = gscv.best_params_\n",
    "    msg += '\\n{0:>20s}\\n'.format('# Parameters of best estimator:')\n",
    "    msg += '{0:_>91}\\n'.format('')\n",
    "    for k,v in params.items():\n",
    "        msg += '{0:>70s}:{1:>20s}\\n'.format(k,str(v))\n",
    "    msg += '{0:_>91}\\n'.format('')\n",
    "\n",
    "    msg += '\\n'\n",
    "    msg += '{0:_>91}\\n'.format('')\n",
    "    # print the best estimator pipeline steps\n",
    "    msg += '\\n{0:>20s}\\n'.format('# Best estimator pipeline steps:')\n",
    "    for step in gscv.best_estimator_.steps:\n",
    "        msg += '{}\\n'.format(str(step))\n",
    "    msg += '{0:_>91}\\n'.format('')\n",
    "    msg += '\\n'\n",
    "\n",
    "    print(msg)"
   ]
  },
  {
   "cell_type": "markdown",
   "metadata": {},
   "source": [
    "The parameters below define the grid-search CV configuration\n",
    " * Will select the best fit as the one with maximum f1-score"
   ]
  },
  {
   "cell_type": "code",
   "execution_count": null,
   "metadata": {},
   "outputs": [],
   "source": [
    "import sklearn\n"
   ]
  },
  {
   "cell_type": "code",
   "execution_count": null,
   "metadata": {},
   "outputs": [],
   "source": [
    "# metrics to track\n",
    "scorings = ['roc_auc','f1','accuracy','recall','precision']\n",
    "# metric to select the best model\n",
    "refit    = 'f1'\n",
    "# k-fold CV\n",
    "cv       = 5\n",
    "# verbosity\n",
    "verbose  = 3\n",
    "\n",
    "balance_data = False"
   ]
  },
  {
   "cell_type": "markdown",
   "metadata": {},
   "source": [
    "In there we define a set of preprocessing steps for treating the data before training the final classifier  \n",
    "Will define a pipeline with the preprocessing steps"
   ]
  },
  {
   "cell_type": "code",
   "execution_count": null,
   "metadata": {},
   "outputs": [],
   "source": [
    "from sklearn.pipeline import Pipeline\n",
    "from sklearn.model_selection import GridSearchCV\n",
    "\n",
    "# Preprocessing pipeline\n",
    "preprocessing = Pipeline([('feature_selector', FeatureSelector()), # Select the features to use\n",
    "                          ('categorizer',      Categorizer()),     # Apply categoriation to the categorical variables\n",
    "                          ('dummyencorer',     DummyEncoder()),    # Apply on-hot-encoding to the categorical variables\n",
    "                          ('standard_scaler',  StandardScaler()),  # Apply standard scaler to all the variables\n",
    "                         ])\n",
    "\n",
    "# Define grid of preprocessing parameters to use in the process of GridSearchCV\n",
    "preprocessing_grid = {'feature_selector__columns':  [['Principal','education','Gender','weekend'],\n",
    "                                                     ['Principal','education','Gender','weekend','time_to_pay_days'],\n",
    "                                                     ['Principal','education','Gender','weekend','middle_week_pay'],\n",
    "                                                     ['Principal','education','Gender','weekend','middle_week_pay','time_to_pay_days'],\n",
    "                                                    ],\n",
    "                      'dummyencorer__drop_first':   [True,False],\n",
    "                     }"
   ]
  },
  {
   "cell_type": "markdown",
   "metadata": {},
   "source": [
    "# K Nearest Neighbor(KNN)\n",
    "Notice: You should find the best k to build the model with the best accuracy.  \n",
    "**warning:** You should not use the __loan_test.csv__ for finding the best k, however, you can split your train_loan.csv into train and test to find the best __k__."
   ]
  },
  {
   "cell_type": "code",
   "execution_count": null,
   "metadata": {},
   "outputs": [],
   "source": [
    "from sklearn.neighbors import KNeighborsClassifier\n",
    "\n",
    "# Take the preprocessing pipeline and add at the end the KNN classifier\n",
    "pipeline_list = preprocessing.steps.copy()\n",
    "pipeline_list.append(('knn',KNeighborsClassifier()))\n",
    "\n",
    "knn_estimator = Pipeline(pipeline_list)\n",
    "print(knn_estimator)\n",
    "\n",
    "# Add the corresponding parameters to the parameters grid\n",
    "knn_grid_params = preprocessing_grid.copy()\n",
    "knn_grid_params['knn__n_neighbors'] = [1,2,3,4,5,6,8,10,15]\n",
    "print(knn_grid_params)\n",
    "\n",
    "# print the number of fits to do\n",
    "nparams = count_number_of_fits(knn_grid_params)\n",
    "nfits   = nparams*cv\n",
    "print(\"# params combinations to test = {}, nfits = {}\".format(nparams,nfits))"
   ]
  },
  {
   "cell_type": "code",
   "execution_count": null,
   "metadata": {},
   "outputs": [],
   "source": [
    "# Define the grid-searchCV object\n",
    "knn_gsCV = GridSearchCV(estimator  = knn_estimator,\n",
    "                        param_grid = knn_grid_params,\n",
    "                        scoring    = scorings,\n",
    "                        refit      = refit,\n",
    "                        cv         = cv,\n",
    "                        verbose    = verbose\n",
    "                       )"
   ]
  },
  {
   "cell_type": "code",
   "execution_count": null,
   "metadata": {
    "scrolled": true
   },
   "outputs": [],
   "source": [
    "# Now launch the grid-searchCV optimization\n",
    "knn_gsCV.fit(X_train,y_train)"
   ]
  },
  {
   "cell_type": "code",
   "execution_count": null,
   "metadata": {},
   "outputs": [],
   "source": [
    "# Print the summary of the results\n",
    "summary_results(knn_gsCV,\"knn_classifier\")"
   ]
  },
  {
   "cell_type": "markdown",
   "metadata": {},
   "source": [
    "# Decision Tree"
   ]
  },
  {
   "cell_type": "code",
   "execution_count": null,
   "metadata": {},
   "outputs": [],
   "source": [
    "from sklearn.tree import DecisionTreeClassifier\n",
    "\n",
    "# Take the preprocessing pipeline and add at the end the Decision Tree classifier\n",
    "pipeline_list = preprocessing.steps.copy()\n",
    "pipeline_list.append(('decision_tree',DecisionTreeClassifier()))\n",
    "\n",
    "decision_tree_estimator = Pipeline(pipeline_list)\n",
    "print(decision_tree_estimator)\n",
    "\n",
    "# Add the corresponding parameters to the parameters grid\n",
    "decision_tree_grid_params = preprocessing_grid.copy()\n",
    "decision_tree_grid_params['decision_tree__criterion']    = ['entropy']\n",
    "# decision_tree_grid_params['decision_tree__max_depth']    = [2,3,5,8,10,15,20]\n",
    "decision_tree_grid_params['decision_tree__max_depth']    = [5,10,15,20,25,30]\n",
    "decision_tree_grid_params['decision_tree__random_state'] = [123456]\n",
    "\n",
    "if balance_data:\n",
    "    decision_tree_grid_params['decision_tree__class_weight'] = ['balanced']\n",
    "else:\n",
    "    decision_tree_grid_params['decision_tree__class_weight'] = [None]\n",
    "\n",
    "decision_tree_grid_params['decision_tree__max_features'] = ['auto']\n",
    "print(decision_tree_grid_params)\n",
    "\n",
    "# print the number of fits to do\n",
    "nparams = count_number_of_fits(decision_tree_grid_params)\n",
    "nfits   = nparams*cv\n",
    "print(\"# params combinations to test = {}, nfits = {}\".format(nparams,nfits))"
   ]
  },
  {
   "cell_type": "code",
   "execution_count": null,
   "metadata": {},
   "outputs": [],
   "source": [
    "decision_tree_gsCV = GridSearchCV(estimator  = decision_tree_estimator,\n",
    "                                  param_grid = decision_tree_grid_params,\n",
    "                                  scoring    = scorings,\n",
    "                                  refit      = refit,\n",
    "                                  cv         = cv,\n",
    "                                  verbose    = verbose\n",
    "                                 )"
   ]
  },
  {
   "cell_type": "code",
   "execution_count": null,
   "metadata": {
    "scrolled": true
   },
   "outputs": [],
   "source": [
    "decision_tree_gsCV.fit(X_train,y_train)"
   ]
  },
  {
   "cell_type": "code",
   "execution_count": null,
   "metadata": {},
   "outputs": [],
   "source": [
    "summary_results(decision_tree_gsCV,\"decision_tree_classifier\")"
   ]
  },
  {
   "cell_type": "markdown",
   "metadata": {},
   "source": [
    "# Support Vector Machine"
   ]
  },
  {
   "cell_type": "code",
   "execution_count": null,
   "metadata": {},
   "outputs": [],
   "source": [
    "from sklearn.svm import SVC\n",
    "\n",
    "pipeline_list = preprocessing.steps.copy()\n",
    "pipeline_list.append(('svc',SVC()))\n",
    "\n",
    "svc_estimator = Pipeline(pipeline_list)\n",
    "print(svc_estimator)\n",
    "\n",
    "svc_grid_params = preprocessing_grid.copy()\n",
    "svc_grid_params['svc__C']             = [1.0e-2,1.0e-1,1.0]\n",
    "svc_grid_params['svc__kernel']        = ['rbf']\n",
    "svc_grid_params['svc__gamma']         = ['scale','auto']\n",
    "\n",
    "if balance_data:\n",
    "    svc_grid_params['svc__class_weight'] = ['balanced']\n",
    "else:\n",
    "    svc_grid_params['svc__class_weight'] = [None]\n",
    "\n",
    "print(svc_grid_params)\n",
    "\n",
    "nparams = count_number_of_fits(svc_grid_params)\n",
    "nfits   = nparams*cv\n",
    "print(\"# params combinations to test = {}, nfits = {}\".format(nparams,nfits))"
   ]
  },
  {
   "cell_type": "code",
   "execution_count": null,
   "metadata": {},
   "outputs": [],
   "source": [
    "svc_gsCV = GridSearchCV(estimator  = svc_estimator,\n",
    "                        param_grid = svc_grid_params,\n",
    "                        scoring    = scorings,\n",
    "                        refit      = refit,\n",
    "                        cv         = cv,\n",
    "                        verbose    = verbose\n",
    "                       )"
   ]
  },
  {
   "cell_type": "code",
   "execution_count": null,
   "metadata": {
    "scrolled": true
   },
   "outputs": [],
   "source": [
    "svc_gsCV.fit(X_train,y_train)"
   ]
  },
  {
   "cell_type": "code",
   "execution_count": null,
   "metadata": {},
   "outputs": [],
   "source": [
    "summary_results(svc_gsCV,\"svc_classifier\")"
   ]
  },
  {
   "cell_type": "markdown",
   "metadata": {},
   "source": [
    "# Logistic Regression"
   ]
  },
  {
   "cell_type": "code",
   "execution_count": null,
   "metadata": {},
   "outputs": [],
   "source": [
    "from sklearn.linear_model import LogisticRegression\n",
    "\n",
    "pipeline_list = preprocessing.steps.copy()\n",
    "pipeline_list.append(('log_reg',LogisticRegression()))\n",
    "\n",
    "log_reg_estimator = Pipeline(pipeline_list)\n",
    "print(log_reg_estimator)\n",
    "\n",
    "log_reg_grid_params = preprocessing_grid.copy()\n",
    "log_reg_grid_params['log_reg__penalty']      = ['l1','l2']\n",
    "log_reg_grid_params['log_reg__C']            = [1.0e-3,1.0e-2,1.0e-1,1.0]\n",
    "\n",
    "if balance_data:\n",
    "    log_reg_grid_params['log_reg__class_weight'] = ['balanced']\n",
    "else:\n",
    "    log_reg_grid_params['log_reg__class_weight'] = [None]\n",
    "\n",
    "log_reg_grid_params['log_reg__random_state'] = [1234567]\n",
    "log_reg_grid_params['log_reg__max_iter']     = [100000]\n",
    "log_reg_grid_params['log_reg__solver']       = ['liblinear']\n",
    "\n",
    "print(log_reg_grid_params)\n",
    "\n",
    "nparams = count_number_of_fits(log_reg_grid_params)\n",
    "nfits   = nparams*cv\n",
    "print(\"# params combinations to test = {}, nfits = {}\".format(nparams,nfits))"
   ]
  },
  {
   "cell_type": "code",
   "execution_count": null,
   "metadata": {},
   "outputs": [],
   "source": [
    "log_reg_gsCV = GridSearchCV(estimator  = log_reg_estimator,\n",
    "                            param_grid = log_reg_grid_params,\n",
    "                            scoring    = scorings,\n",
    "                            refit      = refit,\n",
    "                            cv         = cv,\n",
    "                            verbose    = verbose\n",
    "                           )"
   ]
  },
  {
   "cell_type": "code",
   "execution_count": null,
   "metadata": {},
   "outputs": [],
   "source": [
    "log_reg_gsCV.fit(X_train,y_train)"
   ]
  },
  {
   "cell_type": "code",
   "execution_count": null,
   "metadata": {},
   "outputs": [],
   "source": [
    "summary_results(log_reg_gsCV,\"logistic_regression\")"
   ]
  },
  {
   "cell_type": "markdown",
   "metadata": {},
   "source": [
    "# Model Evaluation using Test set"
   ]
  },
  {
   "cell_type": "code",
   "execution_count": null,
   "metadata": {},
   "outputs": [],
   "source": [
    "from sklearn.metrics import jaccard_similarity_score\n",
    "from sklearn.metrics import f1_score\n",
    "from sklearn.metrics import log_loss\n",
    "from sklearn.metrics import confusion_matrix"
   ]
  },
  {
   "cell_type": "markdown",
   "metadata": {},
   "source": [
    "First, download and load the test set:"
   ]
  },
  {
   "cell_type": "code",
   "execution_count": null,
   "metadata": {},
   "outputs": [],
   "source": [
    "!wget -O loan_test.csv https://s3-api.us-geo.objectstorage.softlayer.net/cf-courses-data/CognitiveClass/ML0101ENv3/labs/loan_test.csv"
   ]
  },
  {
   "cell_type": "markdown",
   "metadata": {
    "button": false,
    "new_sheet": false,
    "run_control": {
     "read_only": false
    }
   },
   "source": [
    "### Load Test set for evaluation "
   ]
  },
  {
   "cell_type": "code",
   "execution_count": null,
   "metadata": {
    "button": false,
    "new_sheet": false,
    "run_control": {
     "read_only": false
    }
   },
   "outputs": [],
   "source": [
    "test_df = get_data('loan_test.csv')\n",
    "test_df.head()"
   ]
  },
  {
   "cell_type": "code",
   "execution_count": null,
   "metadata": {},
   "outputs": [],
   "source": [
    "test_df.shape"
   ]
  },
  {
   "cell_type": "code",
   "execution_count": null,
   "metadata": {},
   "outputs": [],
   "source": [
    "test_df[\"loan_status\"].value_counts()"
   ]
  },
  {
   "cell_type": "code",
   "execution_count": null,
   "metadata": {},
   "outputs": [],
   "source": [
    "test_df_prep = do_global_preprocessing(test_df)\n",
    "test_df_prep.head()"
   ]
  },
  {
   "cell_type": "code",
   "execution_count": null,
   "metadata": {},
   "outputs": [],
   "source": [
    "test_df_prep.shape"
   ]
  },
  {
   "cell_type": "code",
   "execution_count": null,
   "metadata": {},
   "outputs": [],
   "source": [
    "test_df_prep[\"loan_status\"].value_counts()"
   ]
  },
  {
   "cell_type": "code",
   "execution_count": null,
   "metadata": {},
   "outputs": [],
   "source": [
    "X_test = test_df_prep\n",
    "y_test = X_test.pop(\"loan_status\")"
   ]
  },
  {
   "cell_type": "code",
   "execution_count": null,
   "metadata": {},
   "outputs": [],
   "source": [
    "model_dict = {\"KNN\":                knn_gsCV,\n",
    "              \"Decision Tree\":      decision_tree_gsCV,\n",
    "              \"SVM\":                svc_gsCV,\n",
    "              \"LogisticRegression\": log_reg_gsCV,\n",
    "             }"
   ]
  },
  {
   "cell_type": "code",
   "execution_count": null,
   "metadata": {},
   "outputs": [],
   "source": [
    "model_perf_dict = {}\n",
    "counter = 0\n",
    "for k,model in model_dict.items():\n",
    "    if counter == 0:\n",
    "        model_perf_dict[\"Algorithm\"] = []\n",
    "        model_perf_dict[\"Jaccard\"]   = []\n",
    "        model_perf_dict[\"F1-score\"]  = []\n",
    "        model_perf_dict[\"LogLoss\"]   = []\n",
    "    \n",
    "    model = model_dict.get(k).best_estimator_\n",
    "    y_pred = model.predict(X_test)\n",
    "    y_prob = None\n",
    "    if k == \"LogisticRegression\":\n",
    "        y_prob = model.predict_proba(X_test)\n",
    "        # print(y_prob)\n",
    "        \n",
    "    tn, fp, fn, tp = confusion_matrix(y_test,y_pred).ravel()\n",
    "    \n",
    "    Jaccard = jaccard_similarity_score(y_test,y_pred)\n",
    "    F1      = f1_score(y_test,y_pred,pos_label=1)\n",
    "    logloss = None\n",
    "    if y_prob is not None:\n",
    "        logloss = log_loss(y_test,y_prob)\n",
    "        \n",
    "    precision = tp/(tp + fp)\n",
    "    recall    = tp/(tp + fn)\n",
    "    fpr       = fp/(fp + tn)\n",
    "    \n",
    "    print()\n",
    "    print()\n",
    "    print(\"   PERFORMANCES OF MODEL {}\".format(k))\n",
    "    print()\n",
    "    print(\"                  True-PAIDOFF    True-COLLECTION\")\n",
    "    print(\"                  -------------------------------\")\n",
    "    print(\"Pred-PAIDOFF         {}                 {}           =>  {}\".format(tp,fp,tp+fp))\n",
    "    print(\"Pred-COLLECTION      {}                 {}           =>  {}\".format(fn,tn,fn+tn))\n",
    "    print(\"                  -------------------------------\")\n",
    "    print(\"                     {}                 {}\".format(tp+fn,fp+tn))\n",
    "    print()\n",
    "    print(\"tp        = {}\".format(tp))\n",
    "    print(\"fp        = {}\".format(fp))\n",
    "    print(\"tn        = {}\".format(tn))\n",
    "    print(\"fn        = {}\".format(fn))\n",
    "    print(\"F1        = {}\".format(F1))\n",
    "    print(\"recall    = {}\".format(recall))\n",
    "    print(\"precision = {}\".format(precision))\n",
    "    print(\"fpr       = {}\".format(fpr))\n",
    "    print()\n",
    "        \n",
    "    model_perf_dict[\"Algorithm\"].append(k)\n",
    "    model_perf_dict[\"Jaccard\"].append(Jaccard)\n",
    "    model_perf_dict[\"F1-score\"].append(F1)\n",
    "    model_perf_dict[\"LogLoss\"].append(logloss)\n",
    "        \n",
    "    counter += 1\n",
    "    \n",
    "perfs = pd.DataFrame.from_dict(model_perf_dict)"
   ]
  },
  {
   "cell_type": "code",
   "execution_count": null,
   "metadata": {},
   "outputs": [],
   "source": [
    "perfs"
   ]
  },
  {
   "cell_type": "markdown",
   "metadata": {},
   "source": [
    "All the classifiers seem to be doing a good job in identifying customer able to pay (high recall), but not very good at identifying defaulting customer.\n",
    "All the classifiers have a recall very close to 1, but a false-positive-rate close to 1 as well. \n",
    "It seems that the SVM has the highest both Jaccard and F1 scores, but it seems that it classifies all the customers as able to payoff the loans.  \n"
   ]
  },
  {
   "cell_type": "markdown",
   "metadata": {},
   "source": [
    "# Report\n",
    "You should be able to report the accuracy of the built model using different evaluation metrics:"
   ]
  },
  {
   "cell_type": "markdown",
   "metadata": {},
   "source": [
    "| Algorithm          | Jaccard | F1-score | LogLoss |\n",
    "|--------------------|---------|----------|---------|\n",
    "| KNN                | ?       | ?        | NA      |\n",
    "| Decision Tree      | ?       | ?        | NA      |\n",
    "| SVM                | ?       | ?        | NA      |\n",
    "| LogisticRegression | ?       | ?        | ?       |"
   ]
  },
  {
   "cell_type": "markdown",
   "metadata": {
    "button": false,
    "new_sheet": false,
    "run_control": {
     "read_only": false
    }
   },
   "source": [
    "<h2>Want to learn more?</h2>\n",
    "\n",
    "IBM SPSS Modeler is a comprehensive analytics platform that has many machine learning algorithms. It has been designed to bring predictive intelligence to decisions made by individuals, by groups, by systems – by your enterprise as a whole. A free trial is available through this course, available here: <a href=\"http://cocl.us/ML0101EN-SPSSModeler\">SPSS Modeler</a>\n",
    "\n",
    "Also, you can use Watson Studio to run these notebooks faster with bigger datasets. Watson Studio is IBM's leading cloud solution for data scientists, built by data scientists. With Jupyter notebooks, RStudio, Apache Spark and popular libraries pre-packaged in the cloud, Watson Studio enables data scientists to collaborate on their projects without having to install anything. Join the fast-growing community of Watson Studio users today with a free account at <a href=\"https://cocl.us/ML0101EN_DSX\">Watson Studio</a>\n",
    "\n",
    "<h3>Thanks for completing this lesson!</h3>\n",
    "\n",
    "<h4>Author:  <a href=\"https://ca.linkedin.com/in/saeedaghabozorgi\">Saeed Aghabozorgi</a></h4>\n",
    "<p><a href=\"https://ca.linkedin.com/in/saeedaghabozorgi\">Saeed Aghabozorgi</a>, PhD is a Data Scientist in IBM with a track record of developing enterprise level applications that substantially increases clients’ ability to turn data into actionable knowledge. He is a researcher in data mining field and expert in developing advanced analytic methods like machine learning and statistical modelling on large datasets.</p>\n",
    "\n",
    "<hr>\n",
    "\n",
    "<p>Copyright &copy; 2018 <a href=\"https://cocl.us/DX0108EN_CC\">Cognitive Class</a>. This notebook and its source code are released under the terms of the <a href=\"https://bigdatauniversity.com/mit-license/\">MIT License</a>.</p>"
   ]
  }
 ],
 "metadata": {
  "kernelspec": {
   "display_name": "Python 3",
   "language": "python",
   "name": "python3"
  },
  "language_info": {
   "codemirror_mode": {
    "name": "ipython",
    "version": 3
   },
   "file_extension": ".py",
   "mimetype": "text/x-python",
   "name": "python",
   "nbconvert_exporter": "python",
   "pygments_lexer": "ipython3",
   "version": "3.6.9"
  },
  "toc": {
   "base_numbering": 1,
   "nav_menu": {},
   "number_sections": true,
   "sideBar": true,
   "skip_h1_title": false,
   "title_cell": "Table of Contents",
   "title_sidebar": "Contents",
   "toc_cell": false,
   "toc_position": {},
   "toc_section_display": true,
   "toc_window_display": false
  }
 },
 "nbformat": 4,
 "nbformat_minor": 2
}
